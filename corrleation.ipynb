{
 "cells": [
  {
   "cell_type": "code",
   "execution_count": 6,
   "metadata": {},
   "outputs": [],
   "source": [
    "import pandas as pd\n",
    "import numpy as np\n",
    "import pickle\n",
    "from scipy import stats"
   ]
  },
  {
   "cell_type": "code",
   "execution_count": 20,
   "metadata": {},
   "outputs": [],
   "source": [
    "def getCorrelation(groupDrugs, pathDrug, GEX):\n",
    "    drug_df = pd.read_csv(pathDrug, index_col=0)\n",
    "    temp = []\n",
    "    for n in drug_df.columns:\n",
    "        if 'PCC' in n and 'Graph' in n:\n",
    "            temp.append(True)\n",
    "        else:\n",
    "            temp.append(False)\n",
    "    Graph_PCC = drug_df.loc[:,temp]\n",
    "    Graph_PCC = Graph_PCC.sort_values(by=Graph_PCC.columns.to_list(), ascending=False)\n",
    "    IC50 = pd.read_csv('/data2/project/drugResponse/GDSC_DATASET_S1-S12/Table_S6_GDSC_Drug_response_IC50.csv')\n",
    "    drug_list = IC50.columns.to_list()\n",
    "#     top10_drugs = []\n",
    "#     for i in Graph_PCC.index[:10]:\n",
    "#         top10_drugs.append(drug_list[i])\n",
    "#     drug_list = list(set(top10_drugs) | set(groupDrugs))\n",
    "    drug_list = groupDrugs\n",
    "    print(drug_list)\n",
    "    res = pd.DataFrame()\n",
    "    for index1, value1 in IC50[drug_list].iteritems():\n",
    "        temp = []\n",
    "        for index2, value2 in GEX.iteritems():\n",
    "            temp.append(stats.pearsonr(value1[~np.isnan(value1)].values, value2[~np.isnan(value1)].values))\n",
    "        res = pd.concat([res, pd.DataFrame(temp)], axis=1)\n",
    "    res = res.set_index([GEX.columns])\n",
    "    columns = []\n",
    "    for n in drug_list:\n",
    "        columns.append(n + '_correlation')\n",
    "        columns.append(n + '_p-value')\n",
    "    res.columns = columns\n",
    "    return res"
   ]
  },
  {
   "cell_type": "code",
   "execution_count": 7,
   "metadata": {},
   "outputs": [],
   "source": [
    "path1 = 'result/210126/L1000+AUC/1.csv'\n",
    "GEX = pd.read_csv('GDSC+STRING/L1000/groupEXP.csv', index_col=0)\n",
    "with open('result/PATHWAY_DRUG.pickle', 'rb') as f:\n",
    "    data = pickle.load(f)"
   ]
  },
  {
   "cell_type": "code",
   "execution_count": 21,
   "metadata": {},
   "outputs": [
    {
     "name": "stdout",
     "output_type": "stream",
     "text": [
      "['Bicalutamide', 'Tamoxifen']\n"
     ]
    }
   ],
   "source": [
    "df = getCorrelation(data['Hormone-related'], path1, GEX)"
   ]
  },
  {
   "cell_type": "code",
   "execution_count": 23,
   "metadata": {},
   "outputs": [],
   "source": [
    "df.to_csv('Hormone-related Result.csv')"
   ]
  }
 ],
 "metadata": {
  "kernelspec": {
   "display_name": "Python 3",
   "language": "python",
   "name": "python3"
  },
  "language_info": {
   "codemirror_mode": {
    "name": "ipython",
    "version": 3
   },
   "file_extension": ".py",
   "mimetype": "text/x-python",
   "name": "python",
   "nbconvert_exporter": "python",
   "pygments_lexer": "ipython3",
   "version": "3.7.6"
  }
 },
 "nbformat": 4,
 "nbformat_minor": 4
}
